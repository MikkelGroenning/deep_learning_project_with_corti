{
 "metadata": {
  "language_info": {
   "codemirror_mode": {
    "name": "ipython",
    "version": 3
   },
   "file_extension": ".py",
   "mimetype": "text/x-python",
   "name": "python",
   "nbconvert_exporter": "python",
   "pygments_lexer": "ipython3",
   "version": "3.6.2-final"
  },
  "orig_nbformat": 2,
  "kernelspec": {
   "name": "python3",
   "display_name": "Python 3.6.2 64-bit ('deep-learning-vlae': conda)",
   "metadata": {
    "interpreter": {
     "hash": "d73276c40580c1b791c77282cdf03a43473a7aa7e67de6009dcfaf9e747a87f6"
    }
   }
  }
 },
 "nbformat": 4,
 "nbformat_minor": 2,
 "cells": [
  {
   "cell_type": "code",
   "execution_count": 3,
   "metadata": {},
   "outputs": [],
   "source": [
    "from src.models.vae import RecurrentVariationalAutoencoder\n",
    "from src.models.common import *\n",
    "from src.data.data_loader import *\n",
    "import pandas as pd"
   ]
  },
  {
   "cell_type": "code",
   "execution_count": 4,
   "metadata": {},
   "outputs": [
    {
     "output_type": "error",
     "ename": "RuntimeError",
     "evalue": "Error(s) in loading state_dict for RecurrentVariationalAutoencoder:\n\tsize mismatch for encoder.embedding.embedding.weight: copying a param with shape torch.Size([57, 10]) from checkpoint, the shape in current model is torch.Size([56, 10]).\n\tsize mismatch for decoder.output_layer.weight: copying a param with shape torch.Size([57, 64]) from checkpoint, the shape in current model is torch.Size([56, 64]).\n\tsize mismatch for decoder.output_layer.bias: copying a param with shape torch.Size([57]) from checkpoint, the shape in current model is torch.Size([56]).",
     "traceback": [
      "\u001b[0;31m---------------------------------------------------------------------------\u001b[0m",
      "\u001b[0;31mRuntimeError\u001b[0m                              Traceback (most recent call last)",
      "\u001b[0;32m<ipython-input-4-062bd3aaa91c>\u001b[0m in \u001b[0;36m<module>\u001b[0;34m\u001b[0m\n\u001b[1;32m     10\u001b[0m     state_dict=torch.load(\n\u001b[1;32m     11\u001b[0m         \u001b[0;34m\"/Users/soren/Desktop/Untitled\"\u001b[0m\u001b[0;34m,\u001b[0m\u001b[0;34m\u001b[0m\u001b[0m\n\u001b[0;32m---> 12\u001b[0;31m         \u001b[0mmap_location\u001b[0m\u001b[0;34m=\u001b[0m\u001b[0mtorch\u001b[0m\u001b[0;34m.\u001b[0m\u001b[0mdevice\u001b[0m\u001b[0;34m(\u001b[0m\u001b[0;34m'cpu'\u001b[0m\u001b[0;34m)\u001b[0m\u001b[0;34m,\u001b[0m\u001b[0;34m\u001b[0m\u001b[0m\n\u001b[0m\u001b[1;32m     13\u001b[0m     )\n\u001b[1;32m     14\u001b[0m )\n",
      "\u001b[0;32m/usr/local/Caskroom/miniconda/base/envs/deep-learning-vlae/lib/python3.6/site-packages/torch/nn/modules/module.py\u001b[0m in \u001b[0;36mload_state_dict\u001b[0;34m(self, state_dict, strict)\u001b[0m\n\u001b[1;32m   1050\u001b[0m         \u001b[0;32mif\u001b[0m \u001b[0mlen\u001b[0m\u001b[0;34m(\u001b[0m\u001b[0merror_msgs\u001b[0m\u001b[0;34m)\u001b[0m \u001b[0;34m>\u001b[0m \u001b[0;36m0\u001b[0m\u001b[0;34m:\u001b[0m\u001b[0;34m\u001b[0m\u001b[0m\n\u001b[1;32m   1051\u001b[0m             raise RuntimeError('Error(s) in loading state_dict for {}:\\n\\t{}'.format(\n\u001b[0;32m-> 1052\u001b[0;31m                                self.__class__.__name__, \"\\n\\t\".join(error_msgs)))\n\u001b[0m\u001b[1;32m   1053\u001b[0m         \u001b[0;32mreturn\u001b[0m \u001b[0m_IncompatibleKeys\u001b[0m\u001b[0;34m(\u001b[0m\u001b[0mmissing_keys\u001b[0m\u001b[0;34m,\u001b[0m \u001b[0munexpected_keys\u001b[0m\u001b[0;34m)\u001b[0m\u001b[0;34m\u001b[0m\u001b[0m\n\u001b[1;32m   1054\u001b[0m \u001b[0;34m\u001b[0m\u001b[0m\n",
      "\u001b[0;31mRuntimeError\u001b[0m: Error(s) in loading state_dict for RecurrentVariationalAutoencoder:\n\tsize mismatch for encoder.embedding.embedding.weight: copying a param with shape torch.Size([57, 10]) from checkpoint, the shape in current model is torch.Size([56, 10]).\n\tsize mismatch for decoder.output_layer.weight: copying a param with shape torch.Size([57, 64]) from checkpoint, the shape in current model is torch.Size([56, 64]).\n\tsize mismatch for decoder.output_layer.bias: copying a param with shape torch.Size([57]) from checkpoint, the shape in current model is torch.Size([56])."
     ]
    }
   ],
   "source": [
    "data = pd.read_pickle(\"../../data/interim/hydrated/200316.pkl\")\n",
    "\n",
    "dataset_test = TwitterDataset(data.iloc[10:20, :].copy())\n",
    "\n",
    "batch_size = 10\n",
    "test_loader = get_loader(dataset_test, batch_size)\n",
    "\n",
    "net = RecurrentVariationalAutoencoder()\n",
    "net.load_state_dict(\n",
    "    state_dict=torch.load(\n",
    "        \"/Users/soren/Desktop/Untitled\",\n",
    "        map_location=torch.device('cpu'),\n",
    "    )\n",
    ")"
   ]
  },
  {
   "cell_type": "code",
   "execution_count": 30,
   "metadata": {},
   "outputs": [],
   "source": [
    "test_batch = next(iter(test_loader))\n",
    "output = net(test_batch)"
   ]
  },
  {
   "cell_type": "code",
   "execution_count": 32,
   "metadata": {},
   "outputs": [
    {
     "output_type": "stream",
     "name": "stdout",
     "text": [
      "SSo                                                                                                                                                                                                                                                                                                         \nSSo                                                                                                                                                                                                                                                                                                         \nSSo                                                                                                                                                                                                                                                                                                         \nSSo                                                                                                                                                                                                                                                                                                         \nSSo                                                                                                                                                                                                                                                                                                         \nSSo                                                                                                                                                                                                                                                                                                         \nSSo                                                                                                                                                                                                                                                                                                         \nSSo                                                                                                                                                                                                                                                                                                         \nSSo                                                                                                                                                                                                                                                                                                         \nSSo                                                                                                                                                                                                                                                                                                         \n"
     ]
    }
   ],
   "source": [
    "for i in range(10):\n",
    "    print(\"\".join([alphabet[i] for i in output.argmax(axis=2)[:,1]]))"
   ]
  },
  {
   "cell_type": "code",
   "execution_count": null,
   "metadata": {},
   "outputs": [],
   "source": []
  }
 ]
}