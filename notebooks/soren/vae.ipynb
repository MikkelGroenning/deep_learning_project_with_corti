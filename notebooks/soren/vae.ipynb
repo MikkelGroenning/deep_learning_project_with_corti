{
 "metadata": {
  "language_info": {
   "codemirror_mode": {
    "name": "ipython",
    "version": 3
   },
   "file_extension": ".py",
   "mimetype": "text/x-python",
   "name": "python",
   "nbconvert_exporter": "python",
   "pygments_lexer": "ipython3",
   "version": "3.6.2-final"
  },
  "orig_nbformat": 2,
  "kernelspec": {
   "name": "python3",
   "display_name": "Python 3.6.2 64-bit ('deep-learning-vlae': conda)",
   "metadata": {
    "interpreter": {
     "hash": "d73276c40580c1b791c77282cdf03a43473a7aa7e67de6009dcfaf9e747a87f6"
    }
   }
  }
 },
 "nbformat": 4,
 "nbformat_minor": 2,
 "cells": [
  {
   "cell_type": "code",
   "execution_count": 8,
   "metadata": {},
   "outputs": [],
   "source": [
    "from src.models.vae import RecurrentVariationalAutoencoder\n",
    "from src.models.common import *\n",
    "from src.data.data_loader import *\n",
    "import pandas as pd"
   ]
  },
  {
   "cell_type": "code",
   "execution_count": 28,
   "metadata": {},
   "outputs": [
    {
     "output_type": "execute_result",
     "data": {
      "text/plain": [
       "<All keys matched successfully>"
      ]
     },
     "metadata": {},
     "execution_count": 28
    }
   ],
   "source": [
    "data = pd.read_pickle(\"../../data/interim/hydrated/200316.pkl\")\n",
    "\n",
    "dataset_test = TwitterDataset(data.iloc[10:20, :].copy())\n",
    "\n",
    "batch_size = 10\n",
    "test_loader = get_loader(dataset_test, batch_size)\n",
    "\n",
    "net = RecurrentVariationalAutoencoder()\n",
    "net.load_state_dict(\n",
    "    state_dict=torch.load(\n",
    "        \"/Users/soren/Desktop/test.pt\",\n",
    "        map_location=torch.device('cpu'),\n",
    "    )\n",
    ")"
   ]
  },
  {
   "cell_type": "code",
   "execution_count": 30,
   "metadata": {},
   "outputs": [],
   "source": [
    "test_batch = next(iter(test_loader))\n",
    "output = net(test_batch)"
   ]
  },
  {
   "cell_type": "code",
   "execution_count": 32,
   "metadata": {},
   "outputs": [
    {
     "output_type": "stream",
     "name": "stdout",
     "text": [
      "SSo                                                                                                                                                                                                                                                                                                         \nSSo                                                                                                                                                                                                                                                                                                         \nSSo                                                                                                                                                                                                                                                                                                         \nSSo                                                                                                                                                                                                                                                                                                         \nSSo                                                                                                                                                                                                                                                                                                         \nSSo                                                                                                                                                                                                                                                                                                         \nSSo                                                                                                                                                                                                                                                                                                         \nSSo                                                                                                                                                                                                                                                                                                         \nSSo                                                                                                                                                                                                                                                                                                         \nSSo                                                                                                                                                                                                                                                                                                         \n"
     ]
    }
   ],
   "source": [
    "for i in range(10):\n",
    "    print(\"\".join([alphabet[i] for i in output.argmax(axis=2)[:,1]]))"
   ]
  },
  {
   "cell_type": "code",
   "execution_count": null,
   "metadata": {},
   "outputs": [],
   "source": []
  }
 ]
}