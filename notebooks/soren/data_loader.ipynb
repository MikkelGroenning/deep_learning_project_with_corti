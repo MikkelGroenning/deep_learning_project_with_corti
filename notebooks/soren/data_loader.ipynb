{
 "metadata": {
  "language_info": {
   "codemirror_mode": {
    "name": "ipython",
    "version": 3
   },
   "file_extension": ".py",
   "mimetype": "text/x-python",
   "name": "python",
   "nbconvert_exporter": "python",
   "pygments_lexer": "ipython3",
   "version": "3.6.2-final"
  },
  "orig_nbformat": 2,
  "kernelspec": {
   "name": "python3",
   "display_name": "Python 3.6.2 64-bit ('deep-learning-vlae': conda)",
   "metadata": {
    "interpreter": {
     "hash": "d73276c40580c1b791c77282cdf03a43473a7aa7e67de6009dcfaf9e747a87f6"
    }
   }
  }
 },
 "nbformat": 4,
 "nbformat_minor": 2,
 "cells": [
  {
   "cell_type": "code",
   "execution_count": 3,
   "metadata": {},
   "outputs": [
    {
     "output_type": "stream",
     "name": "stdout",
     "text": [
      "02456_Synopsis.pdf  \u001b[1m\u001b[36marticles\u001b[m\u001b[m/           \u001b[1m\u001b[36mnotes\u001b[m\u001b[m/              \u001b[1m\u001b[36msrc.egg-info\u001b[m\u001b[m/\nLICENSE             \u001b[1m\u001b[36mdata\u001b[m\u001b[m/               requirements.txt\nMakefile            environment.yml     setup.py\nREADME.md           \u001b[1m\u001b[36mnotebooks\u001b[m\u001b[m/          \u001b[1m\u001b[36msrc\u001b[m\u001b[m/\n"
     ]
    }
   ],
   "source": [
    "ls ../.."
   ]
  },
  {
   "cell_type": "code",
   "execution_count": 5,
   "metadata": {},
   "outputs": [],
   "source": [
    "%load_ext autoreload\n",
    "%autoreload 2\n",
    "from src.data.data_loader import TweetDataset\n",
    "import pandas as pd"
   ]
  },
  {
   "cell_type": "code",
   "execution_count": 8,
   "metadata": {},
   "outputs": [
    {
     "output_type": "stream",
     "name": "stderr",
     "text": [
      "100%|██████████| 376232/376232 [00:10<00:00, 37152.53it/s]\n"
     ]
    }
   ],
   "source": [
    "data = pd.read_pickle('../../data/interim/hydrated/200316.pkl')\n",
    "td = TweetDataset(data)"
   ]
  }
 ]
}