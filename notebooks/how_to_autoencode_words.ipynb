{
 "cells": [
  {
   "cell_type": "code",
   "execution_count": null,
   "metadata": {},
   "outputs": [],
   "source": [
    "%load_ext autoreload\n",
    "%autoreload 2\n",
    "\n",
    "\n",
    "import seaborn as sns\n",
    "sns.set_style('whitegrid')\n",
    "import matplotlib.pyplot as plt\n",
    "import random\n",
    "import torch\n",
    "from torch.nn.utils.rnn import pad_packed_sequence, PackedSequence, pack_sequence\n",
    "from src.models.rae_words import RAEWords as RAE\n",
    "from src.models.vrae_words import VRAEWords as VRAE\n",
    "from src.models.iaf_words import IAFWords as IAF\n",
    "from src.models.iaf_words import VariationalInference as VI_AIF\n",
    "\n",
    "from src.models.vrae_chars import VariationalInference\n",
    "\n",
    "\n",
    "from src.data.toy import ToyData, Continuous\n",
    "from src.data.common import get_loader\n",
    "from src.models.common import CriterionTrainer, OneHotPacked, VITrainer\n",
    "\n",
    "from torch.optim import Adam\n",
    "from torch.nn import CrossEntropyLoss, MSELoss\n",
    "\n",
    "import numpy as np\n",
    "\n",
    "seed = 42\n",
    "torch.set_deterministic(True)\n",
    "torch.manual_seed(seed)\n",
    "np.random.seed(seed)\n",
    "random.seed(seed)"
   ]
  },
  {
   "cell_type": "markdown",
   "metadata": {},
   "source": [
    "# Defining data"
   ]
  },
  {
   "cell_type": "code",
   "execution_count": null,
   "metadata": {},
   "outputs": [],
   "source": [
    "data_parameters = {\n",
    "    \"max_length\" : 16,\n",
    "    \"min_length\" : 2,\n",
    "    \"error_scale\" : 0.05,\n",
    "}\n",
    "\n",
    "batch_size = 100\n",
    "max_epochs = 40\n",
    "\n",
    "train_data = Continuous(num_observations=10_000, **data_parameters)\n",
    "validation_data = Continuous(num_observations=1000, **data_parameters)\n",
    "test_data = Continuous(num_observations=1000, **data_parameters)\n",
    "\n",
    "num_tests = 1000\n",
    "x_test = next(iter(get_loader(test_data, batch_size=num_tests)))"
   ]
  },
  {
   "cell_type": "code",
   "execution_count": null,
   "metadata": {},
   "outputs": [],
   "source": []
  },
  {
   "cell_type": "markdown",
   "metadata": {},
   "source": [
    "Data consists of sequences of variable length (chosen uniformly at random in (0, 1)), each with the same 1-dimensional value repeated with some gaussian noise. Each sequence ends with -1."
   ]
  },
  {
   "cell_type": "code",
   "execution_count": null,
   "metadata": {},
   "outputs": [],
   "source": [
    "for data in train_data.values[:10]:\n",
    "    plt.plot(data)"
   ]
  },
  {
   "cell_type": "markdown",
   "metadata": {},
   "source": [
    "# Recurrent Autoencoder"
   ]
  },
  {
   "cell_type": "code",
   "execution_count": null,
   "metadata": {},
   "outputs": [],
   "source": [
    "rae = RAE(\n",
    "    input_dim=1,\n",
    "    latent_features=2,\n",
    "    encoder_hidden_size=32,\n",
    "    decoder_hidden_size=32,\n",
    ")\n",
    "\n",
    "optimizer_parameters = {\n",
    "    \"lr\": 0.00,\n",
    "}\n",
    "\n",
    "criterion = MSELoss(reduction=\"sum\")\n",
    "optimizer = Adam(rae.parameters(), **optimizer_parameters)\n",
    "\n",
    "class CriterionTrainerNoCache(CriterionTrainer):\n",
    "\n",
    "    def save_checkpoint(self):\n",
    "        pass\n",
    "\n",
    "    def restore_checkpoint(self):\n",
    "        pass\n"
   ]
  },
  {
   "cell_type": "code",
   "execution_count": null,
   "metadata": {},
   "outputs": [],
   "source": [
    "mt = CriterionTrainerNoCache(\n",
    "    criterion=criterion,\n",
    "    model=rae,\n",
    "    optimizer=optimizer,\n",
    "    batch_size=batch_size,\n",
    "    max_epochs=max_epochs,\n",
    "    training_data=train_data,\n",
    "    validation_data=test_data,\n",
    ")\n",
    "\n",
    "mt.train(progress_bar='epoch')"
   ]
  },
  {
   "cell_type": "code",
   "execution_count": null,
   "metadata": {},
   "outputs": [],
   "source": [
    "plt.plot(mt.training_loss)\n",
    "plt.plot(mt.validation_loss)"
   ]
  },
  {
   "cell_type": "markdown",
   "metadata": {},
   "source": [
    "Some encoded/decoded examples:"
   ]
  },
  {
   "cell_type": "code",
   "execution_count": null,
   "metadata": {},
   "outputs": [],
   "source": [
    "output_rae = rae(x_test)\n",
    "\n",
    "# Sample from observation model and pack, then pad\n",
    "sample_rae_padded, sequence_lengths = pad_packed_sequence(output_rae)\n",
    "sample_rae_padded = sample_rae_padded\n",
    "\n",
    "target_padded, _ = pad_packed_sequence(x_test)\n",
    "\n",
    "idx = random.sample(range(len(sequence_lengths)), k=3)\n",
    "\n",
    "for t, i in enumerate(idx):\n",
    "\n",
    "    decoded_rae = sample_rae_padded[:, i][:sequence_lengths[i]+1]\n",
    "    target = target_padded[:, i][:sequence_lengths[i]+1]\n",
    "    \n",
    "    plt.plot(decoded_rae.detach().numpy()[:-1], color = f'C{t}', linestyle='dashed')\n",
    "    plt.plot(target.detach().numpy()[:-1], color = f'C{t}')\n"
   ]
  },
  {
   "cell_type": "code",
   "execution_count": null,
   "metadata": {},
   "outputs": [],
   "source": [
    "rae"
   ]
  },
  {
   "cell_type": "code",
   "execution_count": null,
   "metadata": {
    "tags": []
   },
   "outputs": [],
   "source": [
    "import seaborn as sns\n",
    "\n",
    "sns.set_style(\"whitegrid\")\n",
    "\n",
    "x, y = rae.encoder(x_test).detach().squeeze().numpy().T\n",
    "\n",
    "lengths = sequence_lengths.squeeze().numpy()\n",
    "target_averages = []\n",
    "\n",
    "for i, length in enumerate(lengths):\n",
    "    arr = target_padded[:,i][:length-1].numpy()\n",
    "    target_averages.append(arr.mean())\n",
    "\n",
    "data = {\n",
    "    'x' : x,\n",
    "    'y' : y,\n",
    "    'length' : lengths,\n",
    "    'average' : target_averages,\n",
    "}\n",
    "\n",
    "sns.scatterplot(\n",
    "    x=data['x'], \n",
    "    y=data['y'], \n",
    "    size=data['length'], \n",
    "    hue=data['average']\n",
    "    )"
   ]
  },
  {
   "cell_type": "markdown",
   "metadata": {},
   "source": [
    "# Variational recurrent autoencoder"
   ]
  },
  {
   "cell_type": "code",
   "execution_count": null,
   "metadata": {},
   "outputs": [],
   "source": [
    "vrae = VRAE(\n",
    "    input_dim=1,\n",
    "    latent_features=2,\n",
    "    encoder_hidden_size=64,\n",
    "    decoder_hidden_size=64,\n",
    ")\n",
    "\n",
    "optimizer_parameters = {\n",
    "    \"lr\": 0.002,\n",
    "}\n",
    "\n",
    "vi = VariationalInference(1)\n",
    "optimizer = Adam(vrae.parameters(), **optimizer_parameters)\n",
    "\n",
    "class VITrainerNoCache(VITrainer):\n",
    "\n",
    "    def save_checkpoint(self):\n",
    "        pass\n",
    "\n",
    "    def restore_checkpoint(self):\n",
    "        pass"
   ]
  },
  {
   "cell_type": "code",
   "execution_count": null,
   "metadata": {},
   "outputs": [],
   "source": [
    "mt = VITrainerNoCache(\n",
    "    vi=vi,\n",
    "    model=vrae,\n",
    "    optimizer=optimizer,\n",
    "    batch_size=batch_size,\n",
    "    max_epochs=max_epochs,\n",
    "    training_data=train_data,\n",
    "    validation_data=test_data,\n",
    ")\n",
    "\n",
    "mt.train(progress_bar='epoch')"
   ]
  },
  {
   "cell_type": "code",
   "execution_count": null,
   "metadata": {},
   "outputs": [],
   "source": [
    "plt.plot(mt.training_loss)\n",
    "plt.plot(mt.validation_loss)"
   ]
  },
  {
   "cell_type": "code",
   "execution_count": null,
   "metadata": {},
   "outputs": [],
   "source": [
    "output_vrae = vrae(x_test)\n",
    "\n",
    "# Sample from observation model and pack, then pad\n",
    "sample_vrae_packed = PackedSequence(\n",
    "    output_vrae['px'].sample(),\n",
    "    x_test.batch_sizes\n",
    ")\n",
    "sample_vrae_padded, sequence_lengths = pad_packed_sequence(sample_vrae_packed)\n",
    "\n",
    "target_padded, _ = pad_packed_sequence(x_test)\n",
    "\n",
    "idx = random.sample(range(len(sequence_lengths)), k=3)\n",
    "\n",
    "for t, i in enumerate(idx):\n",
    "\n",
    "    decoded_vrae = sample_vrae_padded[:, i][:sequence_lengths[i]+1]\n",
    "    target = target_padded[:, i][:sequence_lengths[i]+1]\n",
    "    \n",
    "    plt.plot(decoded_vrae.detach().numpy()[:-1], color = f'C{t}', linestyle='dashed')\n",
    "    plt.plot(target.detach().numpy()[:-1], color = f'C{t}')\n"
   ]
  },
  {
   "cell_type": "code",
   "execution_count": null,
   "metadata": {},
   "outputs": [],
   "source": [
    "mu, log_sigma = vrae.encoder(x_test)\n",
    "mu = mu.detach().numpy()"
   ]
  },
  {
   "cell_type": "code",
   "execution_count": null,
   "metadata": {},
   "outputs": [],
   "source": [
    "import seaborn as sns\n",
    "\n",
    "x, y = mu.T\n",
    "\n",
    "lengths = sequence_lengths.squeeze().numpy()\n",
    "target_averages = []\n",
    "\n",
    "for i, length in enumerate(lengths):\n",
    "    arr = target_padded[:,i][:length-1].numpy()\n",
    "    target_averages.append(arr.mean())\n",
    "\n",
    "data = {\n",
    "    'x' : x,\n",
    "    'y' : y,\n",
    "    'length' : lengths,\n",
    "    'value' : target_averages,\n",
    "}\n",
    "\n",
    "sns.scatterplot(\n",
    "    x=data['x'], \n",
    "    y=data['y'], \n",
    "    size=data['length'], \n",
    "    hue=data['value']\n",
    "    )"
   ]
  },
  {
   "cell_type": "code",
   "execution_count": null,
   "metadata": {},
   "outputs": [],
   "source": [
    "values = np.linspace(0, 1, 5) \n",
    "length = 8\n",
    "\n",
    "sequences = []\n",
    "\n",
    "for value in values:\n",
    "    \n",
    "    tmp = []\n",
    "    for i in range(length):\n",
    "        tmp.append(value + random.gauss(0, data_parameters['error_scale']))\n",
    "    tmp.append(-1)\n",
    "    sequences.append(torch.tensor(tmp).view(-1, 1).float())\n",
    "\n",
    "packed_input = pack_sequence(sequences)\n",
    "output = vrae(packed_input)\n",
    "\n",
    "n_samples = 1_000\n",
    "\n",
    "samples = {}\n",
    "for value in values:\n",
    "    samples[value] = []\n",
    "\n",
    "for i in range(n_samples):\n",
    "\n",
    "    sample = output['qz'].sample()\n",
    "    \n",
    "    for j, value in enumerate(values):\n",
    "        samples[value].append(sample[j, :].numpy())\n",
    "    \n",
    "plotting_data = {\n",
    "    'x' : [],\n",
    "    'y' : [],\n",
    "    'value' : [],\n",
    "}\n",
    "for value, sample in samples.items():\n",
    "    \n",
    "    x, y = zip(*sample)\n",
    "    plotting_data['x'].extend(x)\n",
    "    plotting_data['y'].extend(y)\n",
    "    plotting_data['value'].extend([value]*len(x))\n",
    "    "
   ]
  },
  {
   "cell_type": "code",
   "execution_count": null,
   "metadata": {},
   "outputs": [],
   "source": [
    "sns.displot(plotting_data, x='x', y='y', hue='value', kind='kde')"
   ]
  },
  {
   "cell_type": "code",
   "execution_count": null,
   "metadata": {},
   "outputs": [],
   "source": [
    "value = 0.2\n",
    "lengths = np.arange(2, 10)[::-1]\n",
    "\n",
    "sequences = []\n",
    "\n",
    "for length in lengths:\n",
    "    \n",
    "    tmp = []\n",
    "    for i in range(length):\n",
    "        tmp.append(value + random.gauss(0, data_parameters['error_scale']))\n",
    "    tmp.append(-1)\n",
    "    sequences.append(torch.tensor(tmp).view(-1, 1).float())\n",
    "\n",
    "packed_input = pack_sequence(sequences)\n",
    "output = vrae(packed_input)\n",
    "\n",
    "n_samples = 1_000\n",
    "\n",
    "samples = {}\n",
    "for length in lengths:\n",
    "    samples[length] = []\n",
    "\n",
    "for i in range(n_samples):\n",
    "    sample = output['qz'].sample()\n",
    "    for j, length in enumerate(lengths):\n",
    "        samples[length].append(sample[j, :].numpy())\n",
    "    \n",
    "plotting_data = {\n",
    "    'x' : [],\n",
    "    'y' : [],\n",
    "    'length' : [],\n",
    "}\n",
    "for length, sample in samples.items():\n",
    "    \n",
    "    x, y = zip(*sample)\n",
    "    plotting_data['x'].extend(x)\n",
    "    plotting_data['y'].extend(y)\n",
    "    plotting_data['length'].extend([length]*len(x))\n",
    "    "
   ]
  },
  {
   "cell_type": "code",
   "execution_count": null,
   "metadata": {},
   "outputs": [],
   "source": [
    "sns.displot(plotting_data, x='x', y='y', hue='length', kind='kde')"
   ]
  },
  {
   "cell_type": "markdown",
   "metadata": {},
   "source": [
    "# IAF Variational Recurrent Autoencoder"
   ]
  },
  {
   "cell_type": "code",
   "execution_count": null,
   "metadata": {},
   "outputs": [],
   "source": [
    "iaf = IAF(\n",
    "    input_dim=1,\n",
    "    latent_features=2,\n",
    "    encoder_hidden_size=32,\n",
    "    decoder_hidden_size=32,\n",
    "    flow_depth=4,\n",
    "    flow_hidden_features=24,\n",
    "    flow_context_features=2,\n",
    ")\n",
    "\n",
    "optimizer_parameters = {\n",
    "    \"lr\": 0.001,\n",
    "}\n",
    "\n",
    "class VITrainerNoCache(VITrainer):\n",
    "\n",
    "    def save_checkpoint(self):\n",
    "        pass\n",
    "\n",
    "    def restore_checkpoint(self):\n",
    "        pass\n",
    "\n",
    "vi = VI_AIF()\n",
    "optimizer = Adam(iaf.parameters(), **optimizer_parameters)"
   ]
  },
  {
   "cell_type": "code",
   "execution_count": null,
   "metadata": {},
   "outputs": [],
   "source": [
    "mt = VITrainerNoCache(\n",
    "    vi=vi,\n",
    "    model=iaf,\n",
    "    optimizer=optimizer,\n",
    "    batch_size=batch_size,\n",
    "    max_epochs=max_epochs,\n",
    "    training_data=train_data,\n",
    "    validation_data=test_data,\n",
    ")\n",
    "\n",
    "mt.train(progress_bar='epoch')"
   ]
  },
  {
   "cell_type": "code",
   "execution_count": null,
   "metadata": {},
   "outputs": [],
   "source": [
    "plt.plot(mt.training_loss)\n",
    "plt.plot(mt.validation_loss)"
   ]
  },
  {
   "cell_type": "code",
   "execution_count": null,
   "metadata": {},
   "outputs": [],
   "source": [
    "output_iaf = iaf(x_test)\n",
    "\n",
    "# Sample from observation model and pack, then pad\n",
    "sample_iaf_packed = PackedSequence(\n",
    "    output_iaf['px'].sample(),\n",
    "    x_test.batch_sizes\n",
    ")\n",
    "sample_vrae_padded, sequence_lengths = pad_packed_sequence(sample_iaf_packed)\n",
    "\n",
    "target_padded, _ = pad_packed_sequence(x_test)\n",
    "\n",
    "idx = random.sample(range(len(sequence_lengths)), k=3)\n",
    "\n",
    "for t, i in enumerate(idx):\n",
    "\n",
    "    decoded_vrae = sample_vrae_padded[:, i][:sequence_lengths[i]+1]\n",
    "    target = target_padded[:, i][:sequence_lengths[i]+1]\n",
    "    \n",
    "    plt.plot(decoded_vrae.detach().numpy()[:-1], color = f'C{t}', linestyle='dashed')\n",
    "    plt.plot(target.detach().numpy()[:-1], color = f'C{t}')"
   ]
  },
  {
   "cell_type": "code",
   "execution_count": null,
   "metadata": {},
   "outputs": [],
   "source": [
    "import seaborn as sns\n",
    "\n",
    "z = output_iaf['z'].detach().numpy()\n",
    "\n",
    "x, y = z.T\n",
    "\n",
    "lengths = sequence_lengths.squeeze().numpy()\n",
    "target_averages = []\n",
    "\n",
    "for i, length in enumerate(lengths):\n",
    "    arr = target_padded[:,i][:length-1].numpy()\n",
    "    target_averages.append(arr.mean())\n",
    "\n",
    "data = {\n",
    "    'x' : x,\n",
    "    'y' : y,\n",
    "    'length' : lengths,\n",
    "    'value' : target_averages,\n",
    "}\n",
    "\n",
    "sns.scatterplot(\n",
    "    x=data['x'], \n",
    "    y=data['y'], \n",
    "    size=data['length'], \n",
    "    hue=data['value']\n",
    "    )\n",
    "plt.gca().set_aspect('equal', 'box')"
   ]
  },
  {
   "cell_type": "code",
   "execution_count": null,
   "metadata": {},
   "outputs": [],
   "source": []
  }
 ],
 "metadata": {
  "kernelspec": {
   "display_name": "Python 3",
   "language": "python",
   "name": "python3"
  },
  "language_info": {
   "codemirror_mode": {
    "name": "ipython",
    "version": 3
   },
   "file_extension": ".py",
   "mimetype": "text/x-python",
   "name": "python",
   "nbconvert_exporter": "python",
   "pygments_lexer": "ipython3",
   "version": "3.6.2"
  }
 },
 "nbformat": 4,
 "nbformat_minor": 4
}
