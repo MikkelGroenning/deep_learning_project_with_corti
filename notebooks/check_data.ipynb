{
 "cells": [
  {
   "cell_type": "code",
   "execution_count": 2,
   "metadata": {},
   "outputs": [],
   "source": [
    "import pandas as pd\n",
    "tmp = pd.read_csv('../Data/Interim/Hydrated_Tweet200316.csv')"
   ]
  },
  {
   "cell_type": "code",
   "execution_count": 7,
   "metadata": {},
   "outputs": [
    {
     "output_type": "execute_result",
     "data": {
      "text/plain": "110914"
     },
     "metadata": {},
     "execution_count": 7
    }
   ],
   "source": [
    "tmp.duplicated().sum()"
   ]
  },
  {
   "cell_type": "code",
   "execution_count": null,
   "metadata": {},
   "outputs": [],
   "source": []
  }
 ],
 "metadata": {
  "language_info": {
   "codemirror_mode": {
    "name": "ipython",
    "version": 3
   },
   "file_extension": ".py",
   "mimetype": "text/x-python",
   "name": "python",
   "nbconvert_exporter": "python",
   "pygments_lexer": "ipython3",
   "version": "3.6.2-final"
  },
  "orig_nbformat": 2,
  "kernelspec": {
   "name": "python36264bitdeeplearningvlaecondaeca0108a4db4465f8b96217c4e658d21",
   "display_name": "Python 3.6.2 64-bit ('deep-learning-vlae': conda)"
  }
 },
 "nbformat": 4,
 "nbformat_minor": 2
}