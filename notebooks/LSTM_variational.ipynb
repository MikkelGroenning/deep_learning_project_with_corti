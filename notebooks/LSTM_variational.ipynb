{
 "cells": [
  {
   "cell_type": "code",
   "execution_count": 48,
   "metadata": {},
   "outputs": [
    {
     "output_type": "stream",
     "name": "stdout",
     "text": "The autoreload extension is already loaded. To reload it, use:\n  %reload_ext autoreload\n"
    }
   ],
   "source": [
    "%load_ext autoreload\n",
    "%autoreload 2\n",
    "from src.models.vae import *\n",
    "from src.data.data_loader import get_loader, TwitterDataset\n",
    "\n",
    "from src.models.common import (\n",
    "    EmbeddingPacked,\n",
    "    get_numpy,\n",
    "    get_variable,\n",
    "    simple_elementwise_apply,\n",
    "    cuda,\n",
    ")"
   ]
  },
  {
   "cell_type": "code",
   "execution_count": 49,
   "metadata": {},
   "outputs": [],
   "source": [
    "enc = Encoder()"
   ]
  },
  {
   "cell_type": "code",
   "execution_count": 50,
   "metadata": {},
   "outputs": [],
   "source": [
    "data = pd.read_pickle(\"../data/interim/hydrated/200316.pkl\")\n",
    "train = TwitterDataset(data.iloc[0:1000, :])\n",
    "train_loader = get_loader(train, 10)"
   ]
  },
  {
   "cell_type": "code",
   "execution_count": 51,
   "metadata": {},
   "outputs": [],
   "source": [
    "x = next(iter(train_loader))\n",
    "x = get_variable(x)\n",
    "\n",
    "# Forward pass\n",
    "output = enc(x)"
   ]
  },
  {
   "cell_type": "code",
   "execution_count": null,
   "metadata": {},
   "outputs": [],
   "source": []
  }
 ],
 "metadata": {
  "kernelspec": {
   "name": "python36264bitdeeplearningvlaecondaeca0108a4db4465f8b96217c4e658d21",
   "display_name": "Python 3.6.2 64-bit ('deep-learning-vlae': conda)",
   "metadata": {
    "interpreter": {
     "hash": "d73276c40580c1b791c77282cdf03a43473a7aa7e67de6009dcfaf9e747a87f6"
    }
   }
  },
  "language_info": {
   "codemirror_mode": {
    "name": "ipython",
    "version": 3
   },
   "file_extension": ".py",
   "mimetype": "text/x-python",
   "name": "python",
   "nbconvert_exporter": "python",
   "pygments_lexer": "ipython3",
   "version": "3.6.2-final"
  }
 },
 "nbformat": 4,
 "nbformat_minor": 2
}