{
 "cells": [
  {
   "cell_type": "code",
   "execution_count": 118,
   "metadata": {},
   "outputs": [
    {
     "output_type": "stream",
     "name": "stdout",
     "text": [
      "The autoreload extension is already loaded. To reload it, use:\n  %reload_ext autoreload\n"
     ]
    }
   ],
   "source": [
    "%load_ext autoreload\n",
    "%autoreload 2\n",
    "from src.data.data_loader import TwitterDataset, alphabet, get_loader\n",
    "import pandas as pd\n",
    "import torch.nn.functional as F\n",
    "from torch.nn.utils.rnn import pack_sequence, pad_packed_sequence, pack_padded_sequence, pad_sequence, PackedSequence\n",
    "from torch.nn import LSTM, Embedding, Module, Linear, ReLU, Sequential\n",
    "from torch.utils.data import DataLoader, Sampler, RandomSampler, BatchSampler, SequentialSampler\n",
    "import torch.nn as nn\n",
    "\n",
    "# Import from 7.2 EXE\n",
    "from torch.distributions import Distribution\n",
    "from torch import Tensor\n",
    "\n",
    "from src.models.common import cuda, EmbeddingPacked, get_variable, get_numpy"
   ]
  },
  {
   "cell_type": "code",
   "execution_count": 105,
   "metadata": {},
   "outputs": [],
   "source": [
    "batch_size = 100\n",
    "\n",
    "data = pd.read_pickle('../data/interim/hydrated/200316.pkl')\n",
    "        \n",
    "dataset_train = TwitterDataset(data.iloc[:1000, :].copy())\n",
    "dataset_validation = TwitterDataset(data.iloc[1500:2000, :].copy())\n",
    "\n",
    "num_classes = len(alphabet)\n",
    "\n",
    "train_loader = get_loader( dataset_train, batch_size )"
   ]
  },
  {
   "cell_type": "code",
   "execution_count": 106,
   "metadata": {},
   "outputs": [],
   "source": [
    "class ReparameterizedDiagonalGaussian(Distribution):\n",
    "    \"\"\"\n",
    "    A distribution `N(y | mu, sigma I)` compatible with the reparameterization trick given `epsilon ~ N(0, 1)`.\n",
    "    \"\"\"\n",
    "    def __init__(self, mu: Tensor, log_sigma:Tensor):\n",
    "        assert mu.shape == log_sigma.shape, f\"Tensors `mu` : {mu.shape} and ` log_sigma` : {log_sigma.shape} must be of the same shape\"\n",
    "        self.mu = mu\n",
    "        self.sigma = log_sigma.exp()\n",
    "        \n",
    "    def sample_epsilon(self) -> Tensor:\n",
    "        \"\"\"`\\eps ~ N(0, I)`\"\"\"\n",
    "        return torch.empty_like(self.mu).normal_()\n",
    "        \n",
    "    def sample(self) -> Tensor:\n",
    "        \"\"\"sample `z ~ N(z | mu, sigma)` (without gradients)\"\"\"\n",
    "        with torch.no_grad():\n",
    "            return self.rsample()\n",
    "        \n",
    "    def rsample(self) -> Tensor:\n",
    "        \"\"\"sample `z ~ N(z | mu, sigma)` (with the reparameterization trick) \"\"\"\n",
    "        return self.mu + self.sigma * self.sample_epsilon()\n",
    "        \n",
    "    def log_prob(self, z:Tensor) -> Tensor:\n",
    "        \"\"\"return the log probability: log `p(z)`\"\"\"\n",
    "        return torch.distributions.normal.Normal(self.mu, self.sigma).log_prob(z)"
   ]
  },
  {
   "cell_type": "code",
   "execution_count": 107,
   "metadata": {},
   "outputs": [],
   "source": [
    "class Encoder1(nn.Module):\n",
    "\n",
    "    def __init__(self, embedding_dim=64):\n",
    "        super(Encoder1, self).__init__()\n",
    "\n",
    "        self.n_features = len(alphabet)\n",
    "        self.embedding_dim = embedding_dim\n",
    "        self.hidden_dim = 2 * embedding_dim\n",
    "\n",
    "        self.embedding = EmbeddingPacked(\n",
    "            num_embeddings = num_classes,\n",
    "            embedding_dim = 10,\n",
    "        )\n",
    "\n",
    "        self.rnn1 = nn.LSTM(\n",
    "            input_size=10,\n",
    "            hidden_size=self.hidden_dim,\n",
    "            num_layers=1,\n",
    "        )\n",
    "\n",
    "        self.rnn2 = nn.LSTM(\n",
    "            input_size=self.hidden_dim,\n",
    "            hidden_size=self.embedding_dim,\n",
    "            num_layers=1,\n",
    "        )\n",
    "\n",
    "    def forward(self, x):\n",
    "        x = self.embedding(x)\n",
    "        x, (_, _) = self.rnn1(x)\n",
    "        x, (hidden_n, _) = self.rnn2(x)\n",
    "        return hidden_n"
   ]
  },
  {
   "cell_type": "code",
   "execution_count": 108,
   "metadata": {},
   "outputs": [],
   "source": [
    " class Encoder(nn.Module):\n",
    "\n",
    "    def __init__(self, hidden_dim=64, num_layers=2):\n",
    "\n",
    "        super(Encoder, self).__init__()\n",
    "\n",
    "        self.num_layers = num_layers\n",
    "\n",
    "        self.embedding = EmbeddingPacked(\n",
    "            num_embeddings = num_classes,\n",
    "            embedding_dim = 10,\n",
    "        )\n",
    "\n",
    "        self.rnn = nn.LSTM(\n",
    "            input_size=10,\n",
    "            hidden_size=hidden_dim,\n",
    "            num_layers=self.num_layers,\n",
    "        )\n",
    "\n",
    "    def forward(self, x):\n",
    "\n",
    "        x = self.embedding(x)\n",
    "        x, (hidden_n, _) = self.rnn(x)\n",
    "\n",
    "        return hidden_n[-1]"
   ]
  },
  {
   "cell_type": "code",
   "execution_count": 109,
   "metadata": {},
   "outputs": [],
   "source": [
    "class Decoder(nn.Module):\n",
    "    \n",
    "    def __init__(self, input_dim=64, max_length=290, num_layers=2):\n",
    "        super(Decoder, self).__init__()\n",
    "\n",
    "        self.max_length = max_length\n",
    "        self.input_dim = input_dim\n",
    "        self.n_features = len(alphabet)\n",
    "\n",
    "        self.rnn = nn.LSTM(\n",
    "            input_size=self.input_dim,\n",
    "            hidden_size=self.input_dim,\n",
    "            num_layers=num_layers\n",
    "        )\n",
    "\n",
    "        self.output_layer = nn.Linear(self.input_dim, self.n_features)\n",
    "\n",
    "    def forward(self, x):\n",
    "\n",
    "        x = x.repeat(self.max_length, 1, 1)\n",
    "\n",
    "        x, (_, _) = self.rnn(x)\n",
    "\n",
    "        return self.output_layer(x)"
   ]
  },
  {
   "cell_type": "code",
   "execution_count": 120,
   "metadata": {},
   "outputs": [],
   "source": [
    "class RecurrentVariationalAutoencoder(nn.Module):\n",
    "\n",
    "    def __init__(self, embedding_dim=64, max_length = 290):\n",
    "\n",
    "        super(RecurrentVariationalAutoencoder, self).__init__()\n",
    "        self.embedding_dim = embedding_dim\n",
    "\n",
    "        self.encoder = Encoder(self.embedding_dim)\n",
    "        self.decoder = Decoder(self.embedding_dim, max_length)\n",
    "\n",
    "        self.hidden2mean = nn.Linear(self.embedding_dim, self.embedding_dim)\n",
    "        self.hidden2logv = nn.Linear(self.embedding_dim, self.embedding_dim)\n",
    "        # MIGHT be different\n",
    "        # https://github.com/timbmg/Sentence-VAE/blob/master/model.py\n",
    "        self.latent2hidden = nn.Linear(self.embedding_dim, self.embedding_dim) \n",
    "\n",
    "    def reparameterize(self, mu, log_var):\n",
    "        \"\"\"\n",
    "        :param mu: mean from the encoder's latent space\n",
    "        :param log_var: log variance from the encoder's latent space\n",
    "        \"\"\"\n",
    "        std = torch.exp(0.5*log_var) # standard deviation\n",
    "        eps = torch.randn_like(std) # `randn_like` as we need the same size\n",
    "        sample = mu + (eps * std) # sampling as if coming from the input space\n",
    "        return sample\n",
    "\n",
    "    def forward(self, x):\n",
    "\n",
    "        x = self.encoder(x)\n",
    "\n",
    "        # Reparameterize \n",
    "        mu = self.hidden2mean(x)\n",
    "        log_var = self.hidden2logv(x)\n",
    "        z = self.reparameterize(mu, log_var)\n",
    "\n",
    "        # DECODER\n",
    "        hidden = self.latent2hidden(z)\n",
    "        x = self.decoder(hidden)\n",
    "\n",
    "        return x"
   ]
  },
  {
   "cell_type": "code",
   "execution_count": 122,
   "metadata": {},
   "outputs": [
    {
     "output_type": "stream",
     "name": "stderr",
     "text": [
      "100%|██████████| 10/10 [00:32<00:00,  3.24s/it]\n",
      "100%|██████████| 10/10 [00:31<00:00,  3.12s/it]\n",
      "100%|██████████| 10/10 [00:31<00:00,  3.11s/it]\n",
      "100%|██████████| 10/10 [00:31<00:00,  3.12s/it]\n",
      "100%|██████████| 10/10 [00:31<00:00,  3.11s/it]\n",
      "100%|██████████| 10/10 [00:31<00:00,  3.11s/it]\n",
      "100%|██████████| 10/10 [00:31<00:00,  3.16s/it]\n",
      "100%|██████████| 10/10 [00:31<00:00,  3.14s/it]\n",
      "100%|██████████| 10/10 [00:31<00:00,  3.19s/it]\n",
      "100%|██████████| 10/10 [00:31<00:00,  3.14s/it]\n"
     ]
    }
   ],
   "source": [
    "from torch.nn import CrossEntropyLoss\n",
    "from torch.optim import SGD\n",
    "from tqdm import tqdm\n",
    "\n",
    "# Initialize a new network\n",
    "rvae = RecurrentVariationalAutoencoder()\n",
    "\n",
    "# Hyper-parameters\n",
    "num_epochs = 10\n",
    "\n",
    "# Define a loss function and optimizer for this problem\n",
    "# YOUR CODE HERE!\n",
    "criterion = CrossEntropyLoss(ignore_index=-1)\n",
    "optimizer = SGD(rvae.parameters(), lr=0.001, momentum=0.9)\n",
    "\n",
    "# Track loss\n",
    "training_loss, validation_loss = [], []\n",
    "\n",
    "# For each epoch\n",
    "for i in range(num_epochs):\n",
    "    \n",
    "    # Track loss\n",
    "    epoch_training_loss = 0\n",
    "    epoch_validation_loss = 0\n",
    "    \n",
    "    rvae.train()\n",
    "    \n",
    "    # For each sentence in training set\n",
    "    for x in tqdm(train_loader):\n",
    "        \n",
    "        \n",
    "        x = get_variable(x)\n",
    "        \n",
    "        # Forward pass\n",
    "        # YOUR CODE HERE!\n",
    "        output = rvae(x)\n",
    "        \n",
    "        # Compute loss\n",
    "        # YOUR CODE HERE!\n",
    "        loss = criterion(\n",
    "            output.view(-1, 57),\n",
    "            pad_packed_sequence(x, total_length=290, padding_value=-1)[0].view(-1)\n",
    "        )\n",
    "    \n",
    "        optimizer.zero_grad()\n",
    "        loss.backward()\n",
    "        optimizer.step()\n",
    "        \n",
    "        epoch_training_loss += loss.detach().numpy()\n",
    "        \n",
    "    # Save loss for plot\n",
    "    training_loss.append(epoch_training_loss/len(dataset_train))"
   ]
  },
  {
   "cell_type": "code",
   "execution_count": 124,
   "metadata": {},
   "outputs": [
    {
     "output_type": "execute_result",
     "data": {
      "text/plain": [
       "[0.04028180646896362,\n",
       " 0.040242916107177736,\n",
       " 0.04018809986114502,\n",
       " 0.04013356351852417,\n",
       " 0.040068434238433835,\n",
       " 0.04000666093826294,\n",
       " 0.039949734687805175,\n",
       " 0.039885089159011844,\n",
       " 0.039826437473297116,\n",
       " 0.039759542942047116]"
      ]
     },
     "metadata": {},
     "execution_count": 124
    }
   ],
   "source": [
    "training_loss"
   ]
  },
  {
   "cell_type": "code",
   "execution_count": 125,
   "metadata": {},
   "outputs": [],
   "source": [
    "test_loader = get_loader(TwitterDataset(data.iloc[5000:5005]), batch_size=5)\n",
    "x = next(iter(test_loader))\n",
    "results = rvae(x)"
   ]
  },
  {
   "cell_type": "code",
   "execution_count": 133,
   "metadata": {},
   "outputs": [
    {
     "output_type": "stream",
     "name": "stdout",
     "text": [
      "                                                                                                                                                                                                                                                                                                  \n                                                                                                                                                                                                                                                                                                  \n                                                                                                                                                                                                                                                                                                  \n                                                                                                                                                                                                                                                                                                  \n                                                                                                                                                                                                                                                                                                  \n"
     ]
    }
   ],
   "source": [
    "for i in range(5):\n",
    "    print(\"\".join([alphabet[i] for i in results.argmax(axis=2)[:,1]]))"
   ]
  },
  {
   "cell_type": "code",
   "execution_count": 128,
   "metadata": {},
   "outputs": [
    {
     "output_type": "execute_result",
     "data": {
      "text/plain": [
       "'abcdefghijklmnopqrstuvwxyz0123456789,._´&’%\\'\":€$£!?#USE @'"
      ]
     },
     "metadata": {},
     "execution_count": 128
    }
   ],
   "source": [
    "alphabet"
   ]
  },
  {
   "cell_type": "code",
   "execution_count": 137,
   "metadata": {},
   "outputs": [
    {
     "output_type": "execute_result",
     "data": {
      "text/plain": [
       "torch.Size([300, 100])"
      ]
     },
     "metadata": {},
     "execution_count": 137
    }
   ],
   "source": [
    "pad_packed_sequence(x, total_length=300, padding_value=-1)[0].shape"
   ]
  },
  {
   "cell_type": "code",
   "execution_count": 135,
   "metadata": {},
   "outputs": [
    {
     "output_type": "execute_result",
     "data": {
      "text/plain": [
       "torch.Size([300, 100, 57])"
      ]
     },
     "metadata": {},
     "execution_count": 135
    }
   ],
   "source": [
    "output.shape"
   ]
  },
  {
   "cell_type": "code",
   "execution_count": 132,
   "metadata": {},
   "outputs": [
    {
     "output_type": "execute_result",
     "data": {
      "text/plain": [
       "(tensor([[53, 53, 53,  ..., 53, 53, 53],\n",
       "         [51,  8,  7,  ...,  8,  2, 24],\n",
       "         [18, 55,  0,  ..., 55, 14,  4],\n",
       "         ...,\n",
       "         [-1, -1, -1,  ..., -1, -1, -1],\n",
       "         [-1, -1, -1,  ..., -1, -1, -1],\n",
       "         [-1, -1, -1,  ..., -1, -1, -1]]),\n",
       " tensor([272, 271, 271, 268, 261, 257, 252, 235, 233, 231, 228, 226, 225, 199,\n",
       "         199, 197, 197, 196, 183, 178, 175, 173, 171, 169, 167, 166, 165, 164,\n",
       "         162, 162, 154, 152, 151, 140, 126, 119, 117, 116, 116, 113, 112, 112,\n",
       "         101, 100,  98,  98,  95,  91,  87,  85,  84,  84,  83,  82,  81,  80,\n",
       "          79,  76,  75,  74,  72,  72,  72,  71,  70,  68,  65,  65,  64,  63,\n",
       "          62,  61,  60,  59,  59,  59,  57,  56,  55,  54,  49,  48,  45,  43,\n",
       "          43,  37,  37,  35,  34,  34,  27,  27,  26,  24,  22,  19,  14,  11,\n",
       "           9,   6]))"
      ]
     },
     "metadata": {},
     "execution_count": 132
    }
   ],
   "source": [
    "pad_packed_sequence(x, total_length=300, padding_value=-1)"
   ]
  },
  {
   "cell_type": "code",
   "execution_count": 122,
   "metadata": {
    "scrolled": true
   },
   "outputs": [
    {
     "output_type": "execute_result",
     "data": {
      "text/plain": [
       "(tensor([[53, 53, 53,  ..., 53, 53, 53],\n",
       "         [ 8,  8, 19,  ...,  0, 22,  8],\n",
       "         [55, 19,  7,  ..., 12,  4,  5],\n",
       "         ...,\n",
       "         [-1, -1, -1,  ..., -1, -1, -1],\n",
       "         [-1, -1, -1,  ..., -1, -1, -1],\n",
       "         [-1, -1, -1,  ..., -1, -1, -1]]),\n",
       " tensor([281, 279, 278, 277, 277, 277, 269, 264, 256, 256, 254, 249, 246, 243,\n",
       "         240, 239, 233, 230, 224, 213, 207, 206, 197, 192, 185, 177, 175, 167,\n",
       "         166, 163, 161, 160, 157, 156, 150, 150, 133, 131, 127, 126, 123, 117,\n",
       "         117, 107, 105, 103, 102, 101, 100, 100,  97,  95,  91,  88,  81,  79,\n",
       "          79,  79,  79,  77,  75,  73,  73,  72,  70,  69,  68,  64,  57,  54,\n",
       "          54,  54,  53,  52,  50,  46,  41,  39,  38,  37,  36,  35,  34,  34,\n",
       "          34,  33,  31,  30,  29,  27,  27,  25,  25,  21,  21,  21,  18,  18,\n",
       "          17,  16]))"
      ]
     },
     "metadata": {},
     "execution_count": 122
    }
   ],
   "source": [
    "pad_packed_sequence(x, total_length=300, padding_value=-1)\n"
   ]
  },
  {
   "cell_type": "code",
   "execution_count": 30,
   "metadata": {
    "scrolled": true
   },
   "outputs": [
    {
     "name": "stderr",
     "output_type": "stream",
     "text": [
      "/usr/local/Caskroom/miniconda/base/envs/deep-learning-vlae/lib/python3.6/site-packages/seaborn/_decorators.py:43: FutureWarning: Pass the following variables as keyword args: x, y. From version 0.12, the only valid positional argument will be `data`, and passing other arguments without an explicit keyword will result in an error or misinterpretation.\n",
      "  FutureWarning\n"
     ]
    },
    {
     "data": {
      "text/plain": [
       "<AxesSubplot:>"
      ]
     },
     "execution_count": 30,
     "metadata": {},
     "output_type": "execute_result"
    },
    {
     "data": {
      "image/png": "[encoded data removed]",
      "text/plain": [
       "<Figure size 432x288 with 1 Axes>"
      ]
     },
     "metadata": {
      "needs_background": "light"
     },
     "output_type": "display_data"
    }
   ],
   "source": [
    "sns.lineplot()"
   ]
  },
  {
   "cell_type": "code",
   "execution_count": null,
   "metadata": {},
   "outputs": [],
   "source": []
  }
 ],
 "metadata": {
  "kernelspec": {
   "name": "python3",
   "display_name": "Python 3.6.2 64-bit",
   "metadata": {
    "interpreter": {
     "hash": "d73276c40580c1b791c77282cdf03a43473a7aa7e67de6009dcfaf9e747a87f6"
    }
   }
  },
  "language_info": {
   "codemirror_mode": {
    "name": "ipython",
    "version": 3
   },
   "file_extension": ".py",
   "mimetype": "text/x-python",
   "name": "python",
   "nbconvert_exporter": "python",
   "pygments_lexer": "ipython3",
   "version": "3.6.2-final"
  }
 },
 "nbformat": 4,
 "nbformat_minor": 2
}