{
 "metadata": {
  "language_info": {
   "codemirror_mode": {
    "name": "ipython",
    "version": 3
   },
   "file_extension": ".py",
   "mimetype": "text/x-python",
   "name": "python",
   "nbconvert_exporter": "python",
   "pygments_lexer": "ipython3",
   "version": "3.7.9-final"
  },
  "orig_nbformat": 2,
  "kernelspec": {
   "name": "python3",
   "display_name": "Python 3"
  }
 },
 "nbformat": 4,
 "nbformat_minor": 2,
 "cells": [
  {
   "cell_type": "code",
   "execution_count": 2,
   "metadata": {},
   "outputs": [],
   "source": [
    "import pandas as pd"
   ]
  },
  {
   "cell_type": "code",
   "execution_count": 3,
   "metadata": {},
   "outputs": [],
   "source": [
    "df = pd.read_csv('../Data/Interim/hydrated_Tweet200316.csv', index_col=0)"
   ]
  },
  {
   "cell_type": "code",
   "execution_count": 9,
   "metadata": {},
   "outputs": [
    {
     "output_type": "execute_result",
     "data": {
      "text/plain": [
       "0         False\n",
       "1         False\n",
       "2         False\n",
       "3         False\n",
       "4         False\n",
       "          ...  \n",
       "377045    False\n",
       "377046    False\n",
       "377047    False\n",
       "377048    False\n",
       "377049    False\n",
       "Length: 487972, dtype: bool"
      ]
     },
     "metadata": {},
     "execution_count": 9
    }
   ],
   "source": [
    "df.duplicated()"
   ]
  },
  {
   "cell_type": "code",
   "execution_count": 12,
   "metadata": {},
   "outputs": [
    {
     "output_type": "execute_result",
     "data": {
      "text/plain": [
       "0         Large-scale testing for Covid-19 and wide avai...\n",
       "1                                   Stories on covid_19 😱😱😱\n",
       "2         Smart. More of this, please. https://t.co/c7Tk...\n",
       "3         Not going to wear a bra for a month. 🙅🏻‍♀️✨\\n\\...\n",
       "4         A COVID-19 coronavirus update from concerned p...\n",
       "                                ...                        \n",
       "377045    @charliekirk11 Democrats are using Covid19 to ...\n",
       "377046    Can’t wait to be an old woman telling my grand...\n",
       "377047    Y’all hate us sag so bad because we’re baddies...\n",
       "377048    I’m scared we’re going to be unwilling or unab...\n",
       "377049    @onhellmusic You didn't send me that mass text...\n",
       "Name: tweet, Length: 487972, dtype: object"
      ]
     },
     "metadata": {},
     "execution_count": 12
    }
   ],
   "source": [
    "df.tweet"
   ]
  },
  {
   "cell_type": "code",
   "execution_count": 19,
   "metadata": {},
   "outputs": [],
   "source": [
    "from sklearn.datasets import make_multilabel_classification\n",
    "from sklearn.decomposition import LatentDirichletAllocation"
   ]
  },
  {
   "cell_type": "code",
   "execution_count": 20,
   "metadata": {},
   "outputs": [],
   "source": [
    "X, _ = make_multilabel_classification(random_state=0)"
   ]
  },
  {
   "cell_type": "code",
   "execution_count": 21,
   "metadata": {},
   "outputs": [
    {
     "output_type": "execute_result",
     "data": {
      "text/plain": [
       "LatentDirichletAllocation(n_components=5, random_state=0)"
      ]
     },
     "metadata": {},
     "execution_count": 21
    }
   ],
   "source": [
    "lda = LatentDirichletAllocation(n_components=5, random_state=0)\n",
    "lda.fit(X)"
   ]
  },
  {
   "cell_type": "code",
   "execution_count": 22,
   "metadata": {},
   "outputs": [
    {
     "output_type": "execute_result",
     "data": {
      "text/plain": [
       "array([[0.83264691, 0.15610504, 0.00372766, 0.00372946, 0.00379093],\n",
       "       [0.11204968, 0.00563061, 0.00567138, 0.57851629, 0.29813204],\n",
       "       [0.00361638, 0.15391126, 0.31659894, 0.52227005, 0.00360337]])"
      ]
     },
     "metadata": {},
     "execution_count": 22
    }
   ],
   "source": [
    "lda.transform(X[:3])"
   ]
  },
  {
   "cell_type": "code",
   "execution_count": 5,
   "metadata": {},
   "outputs": [],
   "source": [
    "import nltk\n",
    "import re"
   ]
  },
  {
   "cell_type": "code",
   "execution_count": 32,
   "metadata": {},
   "outputs": [
    {
     "output_type": "execute_result",
     "data": {
      "text/plain": [
       "'asdnjsadnk'"
      ]
     },
     "metadata": {},
     "execution_count": 32
    }
   ],
   "source": [
    "re.sub('\\\\u20aa', '', 'asdnjsadnk\\u20aa')"
   ]
  },
  {
   "cell_type": "code",
   "execution_count": 54,
   "metadata": {},
   "outputs": [],
   "source": [
    "# Clean tweets\n",
    "df['CleanTweet'] = [re.sub(\"[^a-zA-Z0-9\\s,.-_´&%'\\\":€$£!?']\", '',  re.sub(' http\\S+', '', re.sub('\\s',' ', tw))).replace(u'\\xa0', u' ').lower() if isinstance(tw, str) else '' for tw in df.tweet]\n",
    "\n",
    "# Get bigrams\n",
    "bigrams_tweets = [list(nltk.bigrams(tw)) for tw in df['CleanTweet']]"
   ]
  },
  {
   "cell_type": "code",
   "execution_count": 48,
   "metadata": {},
   "outputs": [],
   "source": [
    "unique_chars = sorted(''.join(set(''.join(df['CleanTweet']))))"
   ]
  },
  {
   "cell_type": "code",
   "execution_count": 52,
   "metadata": {},
   "outputs": [],
   "source": [
    "unique_bigrams = [(x,y) for x in unique_chars for y in unique_chars]"
   ]
  },
  {
   "cell_type": "code",
   "execution_count": 62,
   "metadata": {},
   "outputs": [],
   "source": [
    "bigram_mapper = dict(zip(unique_bigrams, range(len(unique_bigrams))))"
   ]
  },
  {
   "cell_type": "code",
   "execution_count": 63,
   "metadata": {},
   "outputs": [],
   "source": [
    "from sklearn.feature_extraction.text import CountVectorizer"
   ]
  },
  {
   "cell_type": "code",
   "execution_count": null,
   "metadata": {},
   "outputs": [],
   "source": [
    "CountVectorizer()"
   ]
  },
  {
   "cell_type": "code",
   "execution_count": 56,
   "metadata": {},
   "outputs": [
    {
     "output_type": "execute_result",
     "data": {
      "text/plain": [
       "[('l', 'a'),\n",
       " ('a', 'r'),\n",
       " ('r', 'g'),\n",
       " ('g', 'e'),\n",
       " ('e', 's'),\n",
       " ('s', 'c'),\n",
       " ('c', 'a'),\n",
       " ('a', 'l'),\n",
       " ('l', 'e'),\n",
       " ('e', ' '),\n",
       " (' ', 't'),\n",
       " ('t', 'e'),\n",
       " ('e', 's'),\n",
       " ('s', 't'),\n",
       " ('t', 'i'),\n",
       " ('i', 'n'),\n",
       " ('n', 'g'),\n",
       " ('g', ' '),\n",
       " (' ', 'f'),\n",
       " ('f', 'o'),\n",
       " ('o', 'r'),\n",
       " ('r', ' '),\n",
       " (' ', 'c'),\n",
       " ('c', 'o'),\n",
       " ('o', 'v'),\n",
       " ('v', 'i'),\n",
       " ('i', 'd'),\n",
       " ('d', '1'),\n",
       " ('1', '9'),\n",
       " ('9', ' '),\n",
       " (' ', 'a'),\n",
       " ('a', 'n'),\n",
       " ('n', 'd'),\n",
       " ('d', ' '),\n",
       " (' ', 'w'),\n",
       " ('w', 'i'),\n",
       " ('i', 'd'),\n",
       " ('d', 'e'),\n",
       " ('e', ' '),\n",
       " (' ', 'a'),\n",
       " ('a', 'v'),\n",
       " ('v', 'a'),\n",
       " ('a', 'i'),\n",
       " ('i', 'l'),\n",
       " ('l', 'a'),\n",
       " ('a', 'b'),\n",
       " ('b', 'i'),\n",
       " ('i', 'l'),\n",
       " ('l', 'i'),\n",
       " ('i', 't'),\n",
       " ('t', 'y'),\n",
       " ('y', ' '),\n",
       " (' ', 'o'),\n",
       " ('o', 'f'),\n",
       " ('f', ' '),\n",
       " (' ', 't'),\n",
       " ('t', 'e'),\n",
       " ('e', 's'),\n",
       " ('s', 't'),\n",
       " ('t', 'i'),\n",
       " ('i', 'n'),\n",
       " ('n', 'g'),\n",
       " ('g', ' '),\n",
       " (' ', 'o'),\n",
       " ('o', 'n'),\n",
       " ('n', ' '),\n",
       " (' ', 'd'),\n",
       " ('d', 'e'),\n",
       " ('e', 'm'),\n",
       " ('m', 'a'),\n",
       " ('a', 'n'),\n",
       " ('n', 'd'),\n",
       " ('d', ' '),\n",
       " (' ', 'w'),\n",
       " ('w', 'o'),\n",
       " ('o', 'u'),\n",
       " ('u', 'l'),\n",
       " ('l', 'd'),\n",
       " ('d', ' '),\n",
       " (' ', 's'),\n",
       " ('s', 'e'),\n",
       " ('e', 'e'),\n",
       " ('e', 'm'),\n",
       " ('m', ' '),\n",
       " (' ', 'a'),\n",
       " ('a', ' '),\n",
       " (' ', 'n'),\n",
       " ('n', 'o'),\n",
       " ('o', 'b'),\n",
       " ('b', 'r'),\n",
       " ('r', 'a'),\n",
       " ('a', 'i'),\n",
       " ('i', 'n'),\n",
       " ('n', 'e'),\n",
       " ('e', 'r'),\n",
       " ('r', ' '),\n",
       " (' ', 'i'),\n",
       " ('i', 'n'),\n",
       " ('n', ' '),\n",
       " (' ', 'e'),\n",
       " ('e', 'a'),\n",
       " ('a', 'r'),\n",
       " ('r', 'l'),\n",
       " ('l', 'y'),\n",
       " ('y', ' '),\n",
       " (' ', 'd'),\n",
       " ('d', 'e'),\n",
       " ('e', 't'),\n",
       " ('t', 'e'),\n",
       " ('e', 'c'),\n",
       " ('c', 't')]"
      ]
     },
     "metadata": {},
     "execution_count": 56
    }
   ],
   "source": [
    "bigrams_tweets[0]"
   ]
  },
  {
   "cell_type": "code",
   "execution_count": null,
   "metadata": {},
   "outputs": [],
   "source": []
  }
 ]
}