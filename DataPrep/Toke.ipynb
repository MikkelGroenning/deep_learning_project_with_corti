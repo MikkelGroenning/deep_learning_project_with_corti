{
 "metadata": {
  "language_info": {
   "codemirror_mode": {
    "name": "ipython",
    "version": 3
   },
   "file_extension": ".py",
   "mimetype": "text/x-python",
   "name": "python",
   "nbconvert_exporter": "python",
   "pygments_lexer": "ipython3",
   "version": "3.7.9-final"
  },
  "orig_nbformat": 2,
  "kernelspec": {
   "name": "python3",
   "display_name": "Python 3"
  }
 },
 "nbformat": 4,
 "nbformat_minor": 2,
 "cells": [
  {
   "cell_type": "code",
   "execution_count": 4,
   "metadata": {
    "tags": [
     "outputPrepend"
    ]
   },
   "outputs": [
    {
     "output_type": "stream",
     "name": "stderr",
     "text": [
      "ges/pkg_resources/__init__.py\", line 3251, in _initialize_master_working_set\n",
      "    working_set = WorkingSet._build_master()\n",
      "  File \"/opt/anaconda3/envs/social_graphs_project/lib/python3.7/site-packages/pkg_resources/__init__.py\", line 558, in _build_master\n",
      "    ws = cls()\n",
      "  File \"/opt/anaconda3/envs/social_graphs_project/lib/python3.7/site-packages/pkg_resources/__init__.py\", line 551, in __init__\n",
      "    self.add_entry(entry)\n",
      "  File \"/opt/anaconda3/envs/social_graphs_project/lib/python3.7/site-packages/pkg_resources/__init__.py\", line 607, in add_entry\n",
      "    for dist in find_distributions(entry, True):\n",
      "  File \"/opt/anaconda3/envs/social_graphs_project/lib/python3.7/site-packages/pkg_resources/__init__.py\", line 1961, in find_distributions\n",
      "    importer = get_importer(path_item)\n",
      "  File \"/opt/anaconda3/envs/social_graphs_project/lib/python3.7/pkgutil.py\", line 419, in get_importer\n",
      "    importer = path_hook(path_item)\n",
      "  File \"<frozen importlib._bootstrap_external>\", line 1447, in path_hook_for_FileFinder\n",
      "  File \"<frozen importlib._bootstrap_external>\", line 101, in _path_isdir\n",
      "FileNotFoundError: [Errno 2] No such file or directory\n",
      "\n",
      "During handling of the above exception, another exception occurred:\n",
      "\n",
      "Traceback (most recent call last):\n",
      "  File \"/opt/anaconda3/envs/social_graphs_project/lib/python3.7/site-packages/IPython/core/interactiveshell.py\", line 2045, in showtraceback\n",
      "    stb = value._render_traceback_()\n",
      "AttributeError: 'FileNotFoundError' object has no attribute '_render_traceback_'\n",
      "\n",
      "During handling of the above exception, another exception occurred:\n",
      "\n",
      "Traceback (most recent call last):\n",
      "  File \"/opt/anaconda3/envs/social_graphs_project/lib/python3.7/site-packages/IPython/core/ultratb.py\", line 1170, in get_records\n",
      "    return _fixed_getinnerframes(etb, number_of_lines_of_context, tb_offset)\n",
      "  File \"/opt/anaconda3/envs/social_graphs_project/lib/python3.7/site-packages/IPython/core/ultratb.py\", line 316, in wrapped\n",
      "    return f(*args, **kwargs)\n",
      "  File \"/opt/anaconda3/envs/social_graphs_project/lib/python3.7/site-packages/IPython/core/ultratb.py\", line 350, in _fixed_getinnerframes\n",
      "    records = fix_frame_records_filenames(inspect.getinnerframes(etb, context))\n",
      "  File \"/opt/anaconda3/envs/social_graphs_project/lib/python3.7/inspect.py\", line 1502, in getinnerframes\n",
      "    frameinfo = (tb.tb_frame,) + getframeinfo(tb, context)\n",
      "  File \"/opt/anaconda3/envs/social_graphs_project/lib/python3.7/inspect.py\", line 1460, in getframeinfo\n",
      "    filename = getsourcefile(frame) or getfile(frame)\n",
      "  File \"/opt/anaconda3/envs/social_graphs_project/lib/python3.7/inspect.py\", line 696, in getsourcefile\n",
      "    if getattr(getmodule(object, filename), '__loader__', None) is not None:\n",
      "  File \"/opt/anaconda3/envs/social_graphs_project/lib/python3.7/inspect.py\", line 725, in getmodule\n",
      "    file = getabsfile(object, _filename)\n",
      "  File \"/opt/anaconda3/envs/social_graphs_project/lib/python3.7/inspect.py\", line 709, in getabsfile\n",
      "    return os.path.normcase(os.path.abspath(_filename))\n",
      "  File \"/opt/anaconda3/envs/social_graphs_project/lib/python3.7/posixpath.py\", line 383, in abspath\n",
      "    cwd = os.getcwd()\n",
      "FileNotFoundError: [Errno 2] No such file or directory\n",
      "Traceback (most recent call last):\n",
      "  File \"/opt/anaconda3/envs/social_graphs_project/lib/python3.7/pkgutil.py\", line 415, in get_importer\n",
      "    importer = sys.path_importer_cache[path_item]\n",
      "KeyError: ''\n",
      "\n",
      "During handling of the above exception, another exception occurred:\n",
      "\n",
      "Traceback (most recent call last):\n",
      "  File \"/opt/anaconda3/envs/social_graphs_project/lib/python3.7/site-packages/IPython/core/interactiveshell.py\", line 3418, in run_code\n",
      "    exec(code_obj, self.user_global_ns, self.user_ns)\n",
      "  File \"<ipython-input-4-0bce7223b0f9>\", line 7, in <module>\n",
      "    from sklearn.decomposition import LatentDirichletAllocation\n",
      "  File \"/opt/anaconda3/envs/social_graphs_project/lib/python3.7/site-packages/sklearn/__init__.py\", line 80, in <module>\n",
      "    from .base import clone\n",
      "  File \"/opt/anaconda3/envs/social_graphs_project/lib/python3.7/site-packages/sklearn/base.py\", line 21, in <module>\n",
      "    from .utils import _IS_32BIT\n",
      "  File \"/opt/anaconda3/envs/social_graphs_project/lib/python3.7/site-packages/sklearn/utils/__init__.py\", line 23, in <module>\n",
      "    from .class_weight import compute_class_weight, compute_sample_weight\n",
      "  File \"/opt/anaconda3/envs/social_graphs_project/lib/python3.7/site-packages/sklearn/utils/class_weight.py\", line 7, in <module>\n",
      "    from .validation import _deprecate_positional_args\n",
      "  File \"/opt/anaconda3/envs/social_graphs_project/lib/python3.7/site-packages/sklearn/utils/validation.py\", line 25, in <module>\n",
      "    from .fixes import _object_dtype_isnan, parse_version\n",
      "  File \"/opt/anaconda3/envs/social_graphs_project/lib/python3.7/site-packages/sklearn/utils/fixes.py\", line 25, in <module>\n",
      "    from pkg_resources import parse_version  # type: ignore\n",
      "  File \"/opt/anaconda3/envs/social_graphs_project/lib/python3.7/site-packages/pkg_resources/__init__.py\", line 3238, in <module>\n",
      "    @_call_aside\n",
      "  File \"/opt/anaconda3/envs/social_graphs_project/lib/python3.7/site-packages/pkg_resources/__init__.py\", line 3222, in _call_aside\n",
      "    f(*args, **kwargs)\n",
      "  File \"/opt/anaconda3/envs/social_graphs_project/lib/python3.7/site-packages/pkg_resources/__init__.py\", line 3251, in _initialize_master_working_set\n",
      "    working_set = WorkingSet._build_master()\n",
      "  File \"/opt/anaconda3/envs/social_graphs_project/lib/python3.7/site-packages/pkg_resources/__init__.py\", line 558, in _build_master\n",
      "    ws = cls()\n",
      "  File \"/opt/anaconda3/envs/social_graphs_project/lib/python3.7/site-packages/pkg_resources/__init__.py\", line 551, in __init__\n",
      "    self.add_entry(entry)\n",
      "  File \"/opt/anaconda3/envs/social_graphs_project/lib/python3.7/site-packages/pkg_resources/__init__.py\", line 607, in add_entry\n",
      "    for dist in find_distributions(entry, True):\n",
      "  File \"/opt/anaconda3/envs/social_graphs_project/lib/python3.7/site-packages/pkg_resources/__init__.py\", line 1961, in find_distributions\n",
      "    importer = get_importer(path_item)\n",
      "  File \"/opt/anaconda3/envs/social_graphs_project/lib/python3.7/pkgutil.py\", line 419, in get_importer\n",
      "    importer = path_hook(path_item)\n",
      "  File \"<frozen importlib._bootstrap_external>\", line 1447, in path_hook_for_FileFinder\n",
      "  File \"<frozen importlib._bootstrap_external>\", line 101, in _path_isdir\n",
      "FileNotFoundError: [Errno 2] No such file or directory\n",
      "\n",
      "During handling of the above exception, another exception occurred:\n",
      "\n",
      "Traceback (most recent call last):\n",
      "  File \"/opt/anaconda3/envs/social_graphs_project/lib/python3.7/site-packages/IPython/core/interactiveshell.py\", line 2045, in showtraceback\n",
      "    stb = value._render_traceback_()\n",
      "AttributeError: 'FileNotFoundError' object has no attribute '_render_traceback_'\n",
      "\n",
      "During handling of the above exception, another exception occurred:\n",
      "\n",
      "Traceback (most recent call last):\n",
      "  File \"/opt/anaconda3/envs/social_graphs_project/lib/python3.7/site-packages/IPython/core/interactiveshell.py\", line 3338, in run_ast_nodes\n",
      "    if (await self.run_code(code, result,  async_=asy)):\n",
      "  File \"/opt/anaconda3/envs/social_graphs_project/lib/python3.7/site-packages/IPython/core/interactiveshell.py\", line 3435, in run_code\n",
      "    self.showtraceback(running_compiled_code=True)\n",
      "  File \"/opt/anaconda3/envs/social_graphs_project/lib/python3.7/site-packages/IPython/core/interactiveshell.py\", line 2048, in showtraceback\n",
      "    value, tb, tb_offset=tb_offset)\n",
      "  File \"/opt/anaconda3/envs/social_graphs_project/lib/python3.7/site-packages/IPython/core/ultratb.py\", line 1437, in structured_traceback\n",
      "    self, etype, value, tb, tb_offset, number_of_lines_of_context)\n",
      "  File \"/opt/anaconda3/envs/social_graphs_project/lib/python3.7/site-packages/IPython/core/ultratb.py\", line 1337, in structured_traceback\n",
      "    self, etype, value, tb, tb_offset, number_of_lines_of_context\n",
      "  File \"/opt/anaconda3/envs/social_graphs_project/lib/python3.7/site-packages/IPython/core/ultratb.py\", line 1194, in structured_traceback\n",
      "    tb_offset)\n",
      "  File \"/opt/anaconda3/envs/social_graphs_project/lib/python3.7/site-packages/IPython/core/ultratb.py\", line 1151, in format_exception_as_a_whole\n",
      "    last_unique, recursion_repeat = find_recursion(orig_etype, evalue, records)\n",
      "  File \"/opt/anaconda3/envs/social_graphs_project/lib/python3.7/site-packages/IPython/core/ultratb.py\", line 451, in find_recursion\n",
      "    return len(records), 0\n",
      "TypeError: object of type 'NoneType' has no len()\n",
      "\n",
      "During handling of the above exception, another exception occurred:\n",
      "\n",
      "Traceback (most recent call last):\n",
      "  File \"/opt/anaconda3/envs/social_graphs_project/lib/python3.7/site-packages/IPython/core/interactiveshell.py\", line 2045, in showtraceback\n",
      "    stb = value._render_traceback_()\n",
      "AttributeError: 'TypeError' object has no attribute '_render_traceback_'\n",
      "\n",
      "During handling of the above exception, another exception occurred:\n",
      "\n",
      "Traceback (most recent call last):\n",
      "  File \"/opt/anaconda3/envs/social_graphs_project/lib/python3.7/site-packages/IPython/core/ultratb.py\", line 1170, in get_records\n",
      "    return _fixed_getinnerframes(etb, number_of_lines_of_context, tb_offset)\n",
      "  File \"/opt/anaconda3/envs/social_graphs_project/lib/python3.7/site-packages/IPython/core/ultratb.py\", line 316, in wrapped\n",
      "    return f(*args, **kwargs)\n",
      "  File \"/opt/anaconda3/envs/social_graphs_project/lib/python3.7/site-packages/IPython/core/ultratb.py\", line 350, in _fixed_getinnerframes\n",
      "    records = fix_frame_records_filenames(inspect.getinnerframes(etb, context))\n",
      "  File \"/opt/anaconda3/envs/social_graphs_project/lib/python3.7/inspect.py\", line 1502, in getinnerframes\n",
      "    frameinfo = (tb.tb_frame,) + getframeinfo(tb, context)\n",
      "  File \"/opt/anaconda3/envs/social_graphs_project/lib/python3.7/inspect.py\", line 1460, in getframeinfo\n",
      "    filename = getsourcefile(frame) or getfile(frame)\n",
      "  File \"/opt/anaconda3/envs/social_graphs_project/lib/python3.7/inspect.py\", line 696, in getsourcefile\n",
      "    if getattr(getmodule(object, filename), '__loader__', None) is not None:\n",
      "  File \"/opt/anaconda3/envs/social_graphs_project/lib/python3.7/inspect.py\", line 725, in getmodule\n",
      "    file = getabsfile(object, _filename)\n",
      "  File \"/opt/anaconda3/envs/social_graphs_project/lib/python3.7/inspect.py\", line 709, in getabsfile\n",
      "    return os.path.normcase(os.path.abspath(_filename))\n",
      "  File \"/opt/anaconda3/envs/social_graphs_project/lib/python3.7/posixpath.py\", line 383, in abspath\n",
      "    cwd = os.getcwd()\n",
      "FileNotFoundError: [Errno 2] No such file or directory\n",
      "Traceback (most recent call last):\n",
      "  File \"/opt/anaconda3/envs/social_graphs_project/lib/python3.7/pkgutil.py\", line 415, in get_importer\n",
      "    importer = sys.path_importer_cache[path_item]\n",
      "KeyError: ''\n",
      "\n",
      "During handling of the above exception, another exception occurred:\n",
      "\n",
      "Traceback (most recent call last):\n",
      "  File \"/opt/anaconda3/envs/social_graphs_project/lib/python3.7/site-packages/IPython/core/interactiveshell.py\", line 3418, in run_code\n",
      "    exec(code_obj, self.user_global_ns, self.user_ns)\n",
      "  File \"<ipython-input-4-0bce7223b0f9>\", line 7, in <module>\n",
      "    from sklearn.decomposition import LatentDirichletAllocation\n",
      "  File \"/opt/anaconda3/envs/social_graphs_project/lib/python3.7/site-packages/sklearn/__init__.py\", line 80, in <module>\n",
      "    from .base import clone\n",
      "  File \"/opt/anaconda3/envs/social_graphs_project/lib/python3.7/site-packages/sklearn/base.py\", line 21, in <module>\n",
      "    from .utils import _IS_32BIT\n",
      "  File \"/opt/anaconda3/envs/social_graphs_project/lib/python3.7/site-packages/sklearn/utils/__init__.py\", line 23, in <module>\n",
      "    from .class_weight import compute_class_weight, compute_sample_weight\n",
      "  File \"/opt/anaconda3/envs/social_graphs_project/lib/python3.7/site-packages/sklearn/utils/class_weight.py\", line 7, in <module>\n",
      "    from .validation import _deprecate_positional_args\n",
      "  File \"/opt/anaconda3/envs/social_graphs_project/lib/python3.7/site-packages/sklearn/utils/validation.py\", line 25, in <module>\n",
      "    from .fixes import _object_dtype_isnan, parse_version\n",
      "  File \"/opt/anaconda3/envs/social_graphs_project/lib/python3.7/site-packages/sklearn/utils/fixes.py\", line 25, in <module>\n",
      "    from pkg_resources import parse_version  # type: ignore\n",
      "  File \"/opt/anaconda3/envs/social_graphs_project/lib/python3.7/site-packages/pkg_resources/__init__.py\", line 3238, in <module>\n",
      "    @_call_aside\n",
      "  File \"/opt/anaconda3/envs/social_graphs_project/lib/python3.7/site-packages/pkg_resources/__init__.py\", line 3222, in _call_aside\n",
      "    f(*args, **kwargs)\n",
      "  File \"/opt/anaconda3/envs/social_graphs_project/lib/python3.7/site-packages/pkg_resources/__init__.py\", line 3251, in _initialize_master_working_set\n",
      "    working_set = WorkingSet._build_master()\n",
      "  File \"/opt/anaconda3/envs/social_graphs_project/lib/python3.7/site-packages/pkg_resources/__init__.py\", line 558, in _build_master\n",
      "    ws = cls()\n",
      "  File \"/opt/anaconda3/envs/social_graphs_project/lib/python3.7/site-packages/pkg_resources/__init__.py\", line 551, in __init__\n",
      "    self.add_entry(entry)\n",
      "  File \"/opt/anaconda3/envs/social_graphs_project/lib/python3.7/site-packages/pkg_resources/__init__.py\", line 607, in add_entry\n",
      "    for dist in find_distributions(entry, True):\n",
      "  File \"/opt/anaconda3/envs/social_graphs_project/lib/python3.7/site-packages/pkg_resources/__init__.py\", line 1961, in find_distributions\n",
      "    importer = get_importer(path_item)\n",
      "  File \"/opt/anaconda3/envs/social_graphs_project/lib/python3.7/pkgutil.py\", line 419, in get_importer\n",
      "    importer = path_hook(path_item)\n",
      "  File \"<frozen importlib._bootstrap_external>\", line 1447, in path_hook_for_FileFinder\n",
      "  File \"<frozen importlib._bootstrap_external>\", line 101, in _path_isdir\n",
      "FileNotFoundError: [Errno 2] No such file or directory\n",
      "\n",
      "During handling of the above exception, another exception occurred:\n",
      "\n",
      "Traceback (most recent call last):\n",
      "  File \"/opt/anaconda3/envs/social_graphs_project/lib/python3.7/site-packages/IPython/core/interactiveshell.py\", line 2045, in showtraceback\n",
      "    stb = value._render_traceback_()\n",
      "AttributeError: 'FileNotFoundError' object has no attribute '_render_traceback_'\n",
      "\n",
      "During handling of the above exception, another exception occurred:\n",
      "\n",
      "Traceback (most recent call last):\n",
      "  File \"/opt/anaconda3/envs/social_graphs_project/lib/python3.7/site-packages/IPython/core/interactiveshell.py\", line 3338, in run_ast_nodes\n",
      "    if (await self.run_code(code, result,  async_=asy)):\n",
      "  File \"/opt/anaconda3/envs/social_graphs_project/lib/python3.7/site-packages/IPython/core/interactiveshell.py\", line 3435, in run_code\n",
      "    self.showtraceback(running_compiled_code=True)\n",
      "  File \"/opt/anaconda3/envs/social_graphs_project/lib/python3.7/site-packages/IPython/core/interactiveshell.py\", line 2048, in showtraceback\n",
      "    value, tb, tb_offset=tb_offset)\n",
      "  File \"/opt/anaconda3/envs/social_graphs_project/lib/python3.7/site-packages/IPython/core/ultratb.py\", line 1437, in structured_traceback\n",
      "    self, etype, value, tb, tb_offset, number_of_lines_of_context)\n",
      "  File \"/opt/anaconda3/envs/social_graphs_project/lib/python3.7/site-packages/IPython/core/ultratb.py\", line 1337, in structured_traceback\n",
      "    self, etype, value, tb, tb_offset, number_of_lines_of_context\n",
      "  File \"/opt/anaconda3/envs/social_graphs_project/lib/python3.7/site-packages/IPython/core/ultratb.py\", line 1194, in structured_traceback\n",
      "    tb_offset)\n",
      "  File \"/opt/anaconda3/envs/social_graphs_project/lib/python3.7/site-packages/IPython/core/ultratb.py\", line 1151, in format_exception_as_a_whole\n",
      "    last_unique, recursion_repeat = find_recursion(orig_etype, evalue, records)\n",
      "  File \"/opt/anaconda3/envs/social_graphs_project/lib/python3.7/site-packages/IPython/core/ultratb.py\", line 451, in find_recursion\n",
      "    return len(records), 0\n",
      "TypeError: object of type 'NoneType' has no len()\n",
      "\n",
      "During handling of the above exception, another exception occurred:\n",
      "\n",
      "Traceback (most recent call last):\n",
      "  File \"/opt/anaconda3/envs/social_graphs_project/lib/python3.7/site-packages/IPython/core/interactiveshell.py\", line 2045, in showtraceback\n",
      "    stb = value._render_traceback_()\n",
      "AttributeError: 'TypeError' object has no attribute '_render_traceback_'\n",
      "\n",
      "During handling of the above exception, another exception occurred:\n",
      "\n",
      "Traceback (most recent call last):\n",
      "  File \"/opt/anaconda3/envs/social_graphs_project/lib/python3.7/site-packages/IPython/core/interactiveshell.py\", line 2923, in _run_cell\n",
      "    return runner(coro)\n",
      "  File \"/opt/anaconda3/envs/social_graphs_project/lib/python3.7/site-packages/IPython/core/async_helpers.py\", line 68, in _pseudo_sync_runner\n",
      "    coro.send(None)\n",
      "  File \"/opt/anaconda3/envs/social_graphs_project/lib/python3.7/site-packages/IPython/core/interactiveshell.py\", line 3147, in run_cell_async\n",
      "    interactivity=interactivity, compiler=compiler, result=result)\n",
      "  File \"/opt/anaconda3/envs/social_graphs_project/lib/python3.7/site-packages/IPython/core/interactiveshell.py\", line 3357, in run_ast_nodes\n",
      "    self.showtraceback()\n",
      "  File \"/opt/anaconda3/envs/social_graphs_project/lib/python3.7/site-packages/IPython/core/interactiveshell.py\", line 2048, in showtraceback\n",
      "    value, tb, tb_offset=tb_offset)\n",
      "  File \"/opt/anaconda3/envs/social_graphs_project/lib/python3.7/site-packages/IPython/core/ultratb.py\", line 1437, in structured_traceback\n",
      "    self, etype, value, tb, tb_offset, number_of_lines_of_context)\n",
      "  File \"/opt/anaconda3/envs/social_graphs_project/lib/python3.7/site-packages/IPython/core/ultratb.py\", line 1337, in structured_traceback\n",
      "    self, etype, value, tb, tb_offset, number_of_lines_of_context\n",
      "  File \"/opt/anaconda3/envs/social_graphs_project/lib/python3.7/site-packages/IPython/core/ultratb.py\", line 1212, in structured_traceback\n",
      "    chained_exceptions_tb_offset)\n",
      "  File \"/opt/anaconda3/envs/social_graphs_project/lib/python3.7/site-packages/IPython/core/ultratb.py\", line 1151, in format_exception_as_a_whole\n",
      "    last_unique, recursion_repeat = find_recursion(orig_etype, evalue, records)\n",
      "  File \"/opt/anaconda3/envs/social_graphs_project/lib/python3.7/site-packages/IPython/core/ultratb.py\", line 451, in find_recursion\n",
      "    return len(records), 0\n",
      "TypeError: object of type 'NoneType' has no len()\n",
      "\n",
      "During handling of the above exception, another exception occurred:\n",
      "\n",
      "Traceback (most recent call last):\n",
      "  File \"/opt/anaconda3/envs/social_graphs_project/lib/python3.7/site-packages/IPython/core/interactiveshell.py\", line 2045, in showtraceback\n",
      "    stb = value._render_traceback_()\n",
      "AttributeError: 'TypeError' object has no attribute '_render_traceback_'\n",
      "\n",
      "During handling of the above exception, another exception occurred:\n",
      "\n",
      "Traceback (most recent call last):\n",
      "  File \"/opt/anaconda3/envs/social_graphs_project/lib/python3.7/site-packages/IPython/core/ultratb.py\", line 1170, in get_records\n",
      "    return _fixed_getinnerframes(etb, number_of_lines_of_context, tb_offset)\n",
      "  File \"/opt/anaconda3/envs/social_graphs_project/lib/python3.7/site-packages/IPython/core/ultratb.py\", line 316, in wrapped\n",
      "    return f(*args, **kwargs)\n",
      "  File \"/opt/anaconda3/envs/social_graphs_project/lib/python3.7/site-packages/IPython/core/ultratb.py\", line 350, in _fixed_getinnerframes\n",
      "    records = fix_frame_records_filenames(inspect.getinnerframes(etb, context))\n",
      "  File \"/opt/anaconda3/envs/social_graphs_project/lib/python3.7/inspect.py\", line 1502, in getinnerframes\n",
      "    frameinfo = (tb.tb_frame,) + getframeinfo(tb, context)\n",
      "  File \"/opt/anaconda3/envs/social_graphs_project/lib/python3.7/inspect.py\", line 1460, in getframeinfo\n",
      "    filename = getsourcefile(frame) or getfile(frame)\n",
      "  File \"/opt/anaconda3/envs/social_graphs_project/lib/python3.7/inspect.py\", line 696, in getsourcefile\n",
      "    if getattr(getmodule(object, filename), '__loader__', None) is not None:\n",
      "  File \"/opt/anaconda3/envs/social_graphs_project/lib/python3.7/inspect.py\", line 725, in getmodule\n",
      "    file = getabsfile(object, _filename)\n",
      "  File \"/opt/anaconda3/envs/social_graphs_project/lib/python3.7/inspect.py\", line 709, in getabsfile\n",
      "    return os.path.normcase(os.path.abspath(_filename))\n",
      "  File \"/opt/anaconda3/envs/social_graphs_project/lib/python3.7/posixpath.py\", line 383, in abspath\n",
      "    cwd = os.getcwd()\n",
      "FileNotFoundError: [Errno 2] No such file or directory\n"
     ]
    }
   ],
   "source": [
    "import pandas as pd\n",
    "import numpy as np\n",
    "import pickle\n",
    "#import nltk\n",
    "#import re\n",
    "#from sklearn.feature_extraction.text import CountVectorizer, TfidfVectorizer\n",
    "from sklearn.decomposition import LatentDirichletAllocation"
   ]
  },
  {
   "cell_type": "code",
   "execution_count": null,
   "metadata": {},
   "outputs": [],
   "source": [
    "df = pd.read_csv('../Data/Interim/hydrated_Tweet200316.csv', index_col=0)"
   ]
  },
  {
   "cell_type": "code",
   "execution_count": null,
   "metadata": {},
   "outputs": [],
   "source": [
    "# Clean tweets\n",
    "df['CleanTweet'] = [re.sub(\"[^a-zA-Z0-9\\s,.-_´&%'\\\":€$£!?']\", '',  re.sub(' http\\S+', '', re.sub('\\s',' ', tw))).replace(u'\\xa0', u' ').lower() if isinstance(tw, str) else '' for tw in df.tweet]\n",
    "\n",
    "# Get bigrams\n",
    "bigrams_tweets = [list(nltk.bigrams(tw)) for tw in df['CleanTweet']]"
   ]
  },
  {
   "cell_type": "code",
   "execution_count": null,
   "metadata": {},
   "outputs": [],
   "source": [
    "with open('../Data/Processed/Bigram_tweets.pickle', 'wb') as handle:\n",
    "    pickle.dump(bigrams_tweets, handle, protocol=pickle.HIGHEST_PROTOCOL)"
   ]
  },
  {
   "cell_type": "code",
   "execution_count": null,
   "metadata": {},
   "outputs": [],
   "source": [
    "unique_chars = sorted(''.join(set(''.join(df['CleanTweet'])))) # Assume all characters are in tweets from df1\n",
    "\n",
    "unique_bigrams = [x+y for x in unique_chars for y in unique_chars]\n",
    "\n",
    "bigram_mapper = dict(zip(unique_bigrams, range(len(unique_bigrams))))"
   ]
  },
  {
   "cell_type": "code",
   "execution_count": null,
   "metadata": {},
   "outputs": [],
   "source": [
    "X = vectorizer.fit_transform(df['CleanTweet'])"
   ]
  },
  {
   "cell_type": "code",
   "execution_count": null,
   "metadata": {},
   "outputs": [],
   "source": [
    "X.shape"
   ]
  },
  {
   "cell_type": "code",
   "execution_count": null,
   "metadata": {},
   "outputs": [],
   "source": [
    "lda = LatentDirichletAllocation(n_components=5, verbose = 2, n_jobs = 3)\n",
    "lda.fit(X[:10000])"
   ]
  },
  {
   "cell_type": "code",
   "execution_count": null,
   "metadata": {},
   "outputs": [],
   "source": [
    "topics = lda.transform(X[:10000]).argmax(axis = 1)"
   ]
  },
  {
   "cell_type": "code",
   "execution_count": null,
   "metadata": {},
   "outputs": [],
   "source": [
    "y = np.bincount(topics)\n",
    "ii = np.nonzero(y)[0]\n",
    "dict(zip(ii,y[ii]))"
   ]
  },
  {
   "cell_type": "code",
   "execution_count": null,
   "metadata": {},
   "outputs": [],
   "source": [
    "lda.transform(X[:10000])"
   ]
  },
  {
   "cell_type": "code",
   "execution_count": null,
   "metadata": {},
   "outputs": [],
   "source": [
    "lda.score(X[:10000])"
   ]
  },
  {
   "cell_type": "code",
   "execution_count": null,
   "metadata": {},
   "outputs": [],
   "source": [
    "vectorizerTfidf = TfidfVectorizer(vocabulary = bigram_mapper, ngram_range = (2,2), analyzer = \"char\")"
   ]
  },
  {
   "cell_type": "code",
   "execution_count": null,
   "metadata": {},
   "outputs": [],
   "source": [
    "X = vectorizerTfidf.fit_transform(df['CleanTweet'])"
   ]
  },
  {
   "cell_type": "code",
   "execution_count": null,
   "metadata": {},
   "outputs": [],
   "source": [
    "lda = LatentDirichletAllocation(n_components=5, verbose = 2, n_jobs = 3)\n",
    "lda.fit(X[:10000])"
   ]
  },
  {
   "cell_type": "code",
   "execution_count": null,
   "metadata": {},
   "outputs": [],
   "source": [
    "lda.score(X[:10000])"
   ]
  },
  {
   "source": [
    "# With the data"
   ],
   "cell_type": "markdown",
   "metadata": {}
  },
  {
   "cell_type": "code",
   "execution_count": 4,
   "metadata": {},
   "outputs": [
    {
     "output_type": "stream",
     "name": "stdout",
     "text": [
      "ERROR! Session/line number was not unique in database. History logging moved to new session 612\n"
     ]
    }
   ],
   "source": [
    "with open('../Data/Processed/data_til_toke.pkl', 'rb') as handle:\n",
    "    data = pickle.load(handle)\n",
    "\n",
    "bigram_mapper = data['bigram_mapper']\n",
    "list_o_lists = data['list_o_lists']\n",
    "\n",
    "del data"
   ]
  },
  {
   "cell_type": "code",
   "execution_count": 14,
   "metadata": {},
   "outputs": [],
   "source": [
    "lda = LatentDirichletAllocation(n_components=5, verbose = 2, n_jobs = 3)\n"
   ]
  },
  {
   "cell_type": "code",
   "execution_count": null,
   "metadata": {},
   "outputs": [],
   "source": []
  }
 ]
}